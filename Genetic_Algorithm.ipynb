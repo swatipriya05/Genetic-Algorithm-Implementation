{
 "cells": [
  {
   "cell_type": "markdown",
   "metadata": {},
   "source": [
    "## Used Classes\n",
    "\n",
    "1. Math\n",
    "2. Random"
   ]
  },
  {
   "cell_type": "code",
   "execution_count": 1,
   "metadata": {},
   "outputs": [],
   "source": [
    "import math\n",
    "import random as rn"
   ]
  },
  {
   "cell_type": "markdown",
   "metadata": {},
   "source": [
    "### Class **Chromosome** to store\n",
    "\n",
    "- **binList**: Random **Binary List**\n",
    "- **eq**: **Equation** to solve\n",
    "- **X**: Value of **X** of *binary list*\n",
    "- **Y**: Value of **Y** calculated from *Equation*"
   ]
  },
  {
   "cell_type": "code",
   "execution_count": 2,
   "metadata": {},
   "outputs": [],
   "source": [
    "class Chromosome:\n",
    "    def __init__(self, l: list[str], eq: str):\n",
    "        self.binList: list[str] = l\n",
    "        self.eq = eq\n",
    "        self.X: int = int(int(''.join(self.binList), base=2))\n",
    "        self.Y: float = float(eval(eq.replace(\"x\", str(self.X))))\n",
    "\n",
    "    def mutate(self, idx: int) -> None:\n",
    "        '''\n",
    "            Mutate this chromosome at a particular index\n",
    "            if this chromosome is selected in mutation\n",
    "            process\n",
    "        '''\n",
    "        self.binList[idx] = '0' if self.binList[idx] == '1' else '1'\n",
    "        self.X = int(int(''.join(self.binList), base=2))\n",
    "        self.Y: float = float(eval(self.eq.replace(\"x\", str(self.X))))"
   ]
  },
  {
   "cell_type": "markdown",
   "metadata": {},
   "source": [
    "Class **GeneticAlgorithm** to process equations and find maxima\n",
    "\n",
    "1. **equation**: stores the **equation** to *process*\n",
    "2. **xs**: stores all the **chromosomes**\n",
    "3. **population**: stores current value of **population**\n",
    "4. **genes**: stores the number of **genes** per **chromosome**\n",
    "5. **percentage**: *ratio* of people undergoing **crossover**"
   ]
  },
  {
   "cell_type": "code",
   "execution_count": 3,
   "metadata": {},
   "outputs": [],
   "source": [
    "class GeneticAlgorithm:\n",
    "    def __init__(self, equation: str) -> None:\n",
    "        self.equation: str = equation\n",
    "        self.xs: list[Chromosome] = []\n",
    "        self.population: int = 50\n",
    "        self.genes: int = 10\n",
    "        self.percentage: float = 0.8\n",
    "\n",
    "    def _initialization(self) -> None:\n",
    "        '''\n",
    "            Initialisaton of chromosomes\n",
    "        '''\n",
    "        for i in range(self.population):\n",
    "            l: list[int] = []\n",
    "            for j in range(self.genes):\n",
    "                num: int = rn.uniform(0, 1) - 0.5\n",
    "                l.append('0' if num < 0 else '1')\n",
    "            self.xs.append(Chromosome(l, self.equation))\n",
    "\n",
    "    def _tournament_selection(self) -> None:\n",
    "        '''\n",
    "            Tournament Selection process\n",
    "            to select the better \n",
    "            chromosomes by doing a \n",
    "            tournament\n",
    "        '''\n",
    "        winners: set = set()\n",
    "        i: int = int(rn.random() * self.population)\n",
    "        Yi: float = self.xs[i].Y\n",
    "\n",
    "        j: int = int(rn.random() * self.population)\n",
    "        Yj: float = self.xs[j].Y\n",
    "\n",
    "        win: int = max(Yi, Yj)\n",
    "        winner: int = i if Yi == win else j\n",
    "        winners.add(winner)\n",
    "        loser: int = abs(win - winner)\n",
    "\n",
    "        while (len(winners) < len(self.xs) / 2):\n",
    "            i: int = int(rn.random() * self.population)\n",
    "            Yi: float = self.xs[i].Y\n",
    "\n",
    "            j: int = int(rn.random() * self.population)\n",
    "            Yj: float = self.xs[j].Y\n",
    "\n",
    "            if (Yi in winners or Yj in winners):\n",
    "                continue\n",
    "\n",
    "            win = max(Yi, Yj)\n",
    "            winner = i if Yi == win else j\n",
    "            winners.add(winner)\n",
    "\n",
    "        # Sorting according to the value of Y given by each chromosome\n",
    "        self.xs.sort(key=lambda x: x.Y, reverse=True)\n",
    "\n",
    "    def _crossover(self) -> None:\n",
    "        '''\n",
    "            Crossover Process where 2 consecutive\n",
    "            parents undergo crossover to produce\n",
    "            2 children\n",
    "        '''\n",
    "        par1_idx = 0\n",
    "        par2_idx = 1\n",
    "        while (par2_idx < int(self.population * self.percentage)):\n",
    "            par1 = self.xs[par1_idx].binList\n",
    "            par2 = self.xs[par2_idx].binList\n",
    "            par1_idx += 2\n",
    "            par2_idx += 2\n",
    "            num = int(rn.random() * self.genes)\n",
    "\n",
    "            # Child 1\n",
    "            l: list[int] = []\n",
    "            l = par1[0: num] + par2[num: ]\n",
    "            self.xs.append(Chromosome(l, self.equation))\n",
    "\n",
    "            # Child 2\n",
    "            l = []\n",
    "            l = par2[0: num] + par1[num: ]\n",
    "            self.xs.append(Chromosome(l, self.equation))\n",
    "\n",
    "        self.population += self.population * self.percentage\n",
    "\n",
    "    def _mutation(self) -> None:\n",
    "        '''\n",
    "            Mutation process where the changes\n",
    "            occurs in some chromosomes\n",
    "            while changing generations\n",
    "        '''\n",
    "        for i in range(int(self.population * 0.1)):\n",
    "            num = int(rn.random() * self.population)\n",
    "            self.xs[num].mutate(int(rn.random() * self.genes))\n",
    "\n",
    "    def _tolerance(self, lastGen: Chromosome) -> bool:\n",
    "        '''\n",
    "            Check the tolerence value and compare the\n",
    "            best performing chromosome of two \n",
    "            consecutive generations\n",
    "        '''\n",
    "        return False if self.xs[0].Y == lastGen.Y else True\n",
    "\n",
    "    def solve(self) -> int:\n",
    "        '''\n",
    "            Combining all the process in an order to\n",
    "            perform Genetic Algorithm\n",
    "        '''\n",
    "        self._initialization()\n",
    "        lastGen: Chromosome = self.xs[0]\n",
    "        flag: bool = True\n",
    "        while (flag):\n",
    "            self._tournament_selection()\n",
    "            self._crossover()\n",
    "            self._mutation()\n",
    "            self.xs.sort(key=lambda x: x.Y, reverse=True)\n",
    "            self.xs = self.xs[0: 50]\n",
    "            self.population = 50\n",
    "            flag = self._tolerance(lastGen)\n",
    "            lastGen = self.xs[0]\n",
    "\n",
    "        return self.xs[0].Y\n"
   ]
  },
  {
   "cell_type": "markdown",
   "metadata": {},
   "source": [
    "## Main Function"
   ]
  },
  {
   "cell_type": "code",
   "execution_count": 4,
   "metadata": {},
   "outputs": [],
   "source": [
    "def main() -> None:\n",
    "    eq: str = \"math.sin(x)\"\n",
    "    ga: GeneticAlgorithm = GeneticAlgorithm(eq)\n",
    "    print(\"Maxima = \", ga.solve())"
   ]
  },
  {
   "cell_type": "code",
   "execution_count": 5,
   "metadata": {},
   "outputs": [
    {
     "name": "stdout",
     "output_type": "stream",
     "text": [
      "Maxima =  0.9997545059076306\n"
     ]
    }
   ],
   "source": [
    "if __name__ == \"__main__\":\n",
    "    main()"
   ]
  },
  {
   "cell_type": "code",
   "execution_count": null,
   "metadata": {},
   "outputs": [],
   "source": []
  }
 ],
 "metadata": {
  "kernelspec": {
   "display_name": "base",
   "language": "python",
   "name": "python3"
  },
  "language_info": {
   "codemirror_mode": {
    "name": "ipython",
    "version": 3
   },
   "file_extension": ".py",
   "mimetype": "text/x-python",
   "name": "python",
   "nbconvert_exporter": "python",
   "pygments_lexer": "ipython3",
   "version": "3.11.7"
  }
 },
 "nbformat": 4,
 "nbformat_minor": 2
}
